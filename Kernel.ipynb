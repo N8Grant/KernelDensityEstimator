{
 "cells": [
  {
   "cell_type": "markdown",
   "metadata": {},
   "source": [
    "## Kernel Class\n",
    "**Desctiprion** - This class is designed to estimate a pdf of a given dataset\n",
    "<ul>\n",
    "    <li><strong>graph_kernel-</strong>\n",
    "        <ul>\n",
    "            <li>input: x_values...1D array of x values to be used for line graph plot</li>\n",
    "            <li>ourput: y_values...1D array of y values of the kernel function</li>\n",
    "        </ul>\n",
    "    </li>\n",
    "    <li><strong>pdf_kernel-</strong>\n",
    "        <ul>\n",
    "            <li>input: x...x value for pdf</li>\n",
    "            <li>ourput: percentage...p(x)=K(x)</li>\n",
    "        </ul>\n",
    "    </li> \n",
    "    <li><strong>cdf_kernel-</strong>\n",
    "        <ul>\n",
    "            <li>input: x...x value for cdf</li>\n",
    "            <li>output: percentage...P(x)=$\\int_{min(X)}^{x}K(x)dx$</li>\n",
    "        </ul>\n",
    "    </li> \n",
    "</ul>"
   ]
  },
  {
   "cell_type": "code",
   "execution_count": 14,
   "metadata": {},
   "outputs": [],
   "source": [
    "import numpy as np\n",
    "import math\n",
    "\n",
    "def kernel_function(data,h, x):\n",
    "    total = 0\n",
    "    ## Uses Gaussian function for kernel approximation\n",
    "    for i in range(len(data)):\n",
    "        total += (pow(2*math.pi,-.5)*pow(math.e,-.5*pow((x-data[i])/h,2)))\n",
    "    return total/(len(data)*h)\n",
    "\n",
    "class Kernel:\n",
    "    def __init__(self, data):\n",
    "        self.data = data\n",
    "        self.h = ((4*np.std(self.data)**5)/(3*len(self.data)))**.2\n",
    "\n",
    "    def graph_kernel(self, x_values):\n",
    "        l = []\n",
    "        ## Get p(x) for all x\n",
    "        for x in x_values:\n",
    "            l.append(kernel_function(self.data, self.h, x))\n",
    "        return l\n",
    "    \n",
    "    def pdf_kernel(self,x):\n",
    "        return kernel_function(self.data, self.h, x)\n",
    "    \n",
    "    def cdf_kernel(self, x):\n",
    "        total = 0\n",
    "        low = min(self.data)\n",
    "        steps = 1000\n",
    "        step_size = (abs(low) + abs(x))/steps\n",
    "        ## integrate over the pdf\n",
    "        for i in range(steps):\n",
    "            total+= kernel_function(self.data, self.h, low+step_size*i)*step_size\n",
    "        return total            "
   ]
  },
  {
   "cell_type": "code",
   "execution_count": 29,
   "metadata": {},
   "outputs": [
    {
     "name": "stdout",
     "output_type": "stream",
     "text": [
      "0.925676743198\n"
     ]
    }
   ],
   "source": [
    "data = np.random.normal(0, 3, 100)\n",
    "data = np.append(data,np.random.normal(10,2,5000))\n",
    "data = np.append(data,np.random.normal(-2,2,10000))\n",
    "\n",
    "approx = Kernel(data)"
   ]
  },
  {
   "cell_type": "code",
   "execution_count": 30,
   "metadata": {},
   "outputs": [
    {
     "data": {
      "image/png": "[encoded data removed]",
      "text/plain": [
       "<Figure size 432x288 with 1 Axes>"
      ]
     },
     "metadata": {
      "needs_background": "light"
     },
     "output_type": "display_data"
    }
   ],
   "source": [
    "import matplotlib.pyplot as plt\n",
    "n, bins, patches = plt.hist(data, 50, density=1, facecolor='g', alpha=0.75)\n",
    "low = min(data)*1.2\n",
    "high= max(data)*1.2\n",
    "x = np.linspace(low,high)\n",
    "y = approx.graph_kernel(x)\n",
    "max_percent = max(y)\n",
    "plt.axis([low, high, 0, 1.5*max_percent])\n",
    "\n",
    "plt.plot(x, y)\n",
    "plt.show()"
   ]
  },
  {
   "cell_type": "code",
   "execution_count": 28,
   "metadata": {},
   "outputs": [
    {
     "name": "stdout",
     "output_type": "stream",
     "text": [
      "0.520955633768\n"
     ]
    }
   ],
   "source": [
    "print(approx.cdf_kernel(0))"
   ]
  },
  {
   "cell_type": "code",
   "execution_count": null,
   "metadata": {},
   "outputs": [],
   "source": []
  }
 ],
 "metadata": {
  "kernelspec": {
   "display_name": "Python 3",
   "language": "python",
   "name": "python3"
  },
  "language_info": {
   "codemirror_mode": {
    "name": "ipython",
    "version": 3
   },
   "file_extension": ".py",
   "mimetype": "text/x-python",
   "name": "python",
   "nbconvert_exporter": "python",
   "pygments_lexer": "ipython3",
   "version": "3.5.4"
  }
 },
 "nbformat": 4,
 "nbformat_minor": 2
}
